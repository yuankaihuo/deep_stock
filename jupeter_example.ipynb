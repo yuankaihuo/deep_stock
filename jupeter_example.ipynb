{
 "cells": [
  {
   "cell_type": "markdown",
   "metadata": {
    "collapsed": true
   },
   "source": [
    "# Deep network on stock price prediction\n",
    "## Yuankai Huo @ Vandebrilt University  1/13/2016"
   ]
  },
  {
   "cell_type": "markdown",
   "metadata": {},
   "source": [
    "This code predict stock price in the next 5th transaction day, based on the stock close price in previous 90 days. Thanks to Dr. Zhou for providing the data. "
   ]
  },
  {
   "cell_type": "markdown",
   "metadata": {},
   "source": [
    "The Keras + Theano framework is used as platform (https://keras.io/). The functions and detailed implementations can be found in deep_stock.py, which is developed by Yuankai Huo. Yuankai is a EE PhD candidate in Vanderbilt University"
   ]
  },
  {
   "cell_type": "markdown",
   "metadata": {},
   "source": [
    "### Step (1) Decompress table1.zip table2.zip and table3.zip. Then put all .csv files to a single folder. Then, we prepare the training and testing data."
   ]
  },
  {
   "cell_type": "code",
   "execution_count": 1,
   "metadata": {
    "collapsed": false
   },
   "outputs": [
    {
     "name": "stderr",
     "output_type": "stream",
     "text": [
      "Using Theano backend.\n"
     ]
    }
   ],
   "source": [
    "import deep_stock as ds\n",
    "csv_dir = '/fs4/masi/huoy1/DeepLearning/stock/tables/tables'"
   ]
  },
  {
   "cell_type": "code",
   "execution_count": 2,
   "metadata": {
    "collapsed": true
   },
   "outputs": [],
   "source": [
    "# parameter setting\n",
    "look_back       = 90 # look back to past 90 days\n",
    "predict_len     = 5  # predict the 5th day in the future \n",
    "sample_interval = 1  # intervals of downsampling training data\n",
    "train_epoch     = 1  # epoches of training"
   ]
  },
  {
   "cell_type": "code",
   "execution_count": 3,
   "metadata": {
    "collapsed": false
   },
   "outputs": [
    {
     "name": "stdout",
     "output_type": "stream",
     "text": [
      "=== Start generate train and test dataset from csv files ===\n",
      "=== Finish generate train and test dataset from csv files ===\n",
      "size of train = [1221291 90 1]\n",
      "size of test = [371580 90]\n"
     ]
    }
   ],
   "source": [
    "# read training and testing dataset\n",
    "trainX,trainY,testX,testY = ds.generate_dataset(csv_dir, look_back, predict_len, sample_interval)\n",
    "print(\"size of train = [%d %d %d]\" % (trainX.shape[0],trainX.shape[1],trainX.shape[2]))\n",
    "print(\"size of test = [%d %d]\" % (testX.shape[0],testX.shape[1]))"
   ]
  },
  {
   "cell_type": "markdown",
   "metadata": {},
   "source": [
    "### Step (2) Using LSTM RNN network"
   ]
  },
  {
   "cell_type": "markdown",
   "metadata": {},
   "source": [
    "First, the LSTM RNN network is used for the experiments. However, the test accurarcy is only a little bit better than 50% since the financial time sequences are very noisy. "
   ]
  },
  {
   "cell_type": "code",
   "execution_count": 4,
   "metadata": {
    "collapsed": false
   },
   "outputs": [
    {
     "name": "stdout",
     "output_type": "stream",
     "text": [
      "=== Start training LSTM-RNN network ===\n",
      "Epoch 1/1\n",
      "7528s - loss: 0.6854 - acc: 0.5503\n",
      "=== Finish training LSTM-RNN network ===\n",
      "=== Start testing LSTM-RNN network ===\n",
      "=== Finish testing LSTM-RNN network ===\n",
      "LSTM RNN network's accuracy = 0.584380\n",
      "\n"
     ]
    }
   ],
   "source": [
    "lstm_model = ds.lstm_train(trainX, trainY, look_back, predict_len,train_epoch)\n",
    "lstm_acc   = ds.lstm_test(lstm_model, testX, testY)\n",
    "print(\"LSTM RNN network's accuracy = %f\\n\" % lstm_acc)"
   ]
  },
  {
   "cell_type": "markdown",
   "metadata": {},
   "source": [
    "### Step (3) Using CNN + LSTM RNN network"
   ]
  },
  {
   "cell_type": "markdown",
   "metadata": {},
   "source": [
    "Then, to denoise the financial time sequences, a 1D CNN is combined with LSTM network. Then, the accurarcy achieves 60% ~ 70% and we can start to make profit from this model."
   ]
  },
  {
   "cell_type": "code",
   "execution_count": 5,
   "metadata": {
    "collapsed": false
   },
   "outputs": [
    {
     "name": "stdout",
     "output_type": "stream",
     "text": [
      "=== Start training CNN + LSTM-RNN network ===\n",
      "Epoch 1/1\n",
      "4027s - loss: 0.6164 - acc: 0.6245\n",
      "=== Finish training CNN + LSTM-RNN network ===\n",
      "=== Start testing CNN + LSTM-RNN network ===\n",
      "=== Start testing CNN + LSTM-RNN network ===\n",
      "CNN + LSTM RNN network's accuracy = 0.665849\n",
      "\n"
     ]
    }
   ],
   "source": [
    "cnn_lstm_model = ds.cnn_lstm_train(trainX, trainY, look_back, predict_len, train_epoch)\n",
    "cnn_lstm_acc   = ds.cnn_lstm_test(cnn_lstm_model, testX, testY)\n",
    "print(\"CNN + LSTM RNN network's accuracy = %f\\n\" % cnn_lstm_acc)"
   ]
  }
 ],
 "metadata": {
  "anaconda-cloud": {},
  "kernelspec": {
   "display_name": "Python [conda env:tf12]",
   "language": "python",
   "name": "conda-env-tf12-py"
  },
  "language_info": {
   "codemirror_mode": {
    "name": "ipython",
    "version": 2
   },
   "file_extension": ".py",
   "mimetype": "text/x-python",
   "name": "python",
   "nbconvert_exporter": "python",
   "pygments_lexer": "ipython2",
   "version": "2.7.13"
  }
 },
 "nbformat": 4,
 "nbformat_minor": 1
}
